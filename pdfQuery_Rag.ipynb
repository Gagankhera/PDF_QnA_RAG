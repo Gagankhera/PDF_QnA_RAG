{
 "cells": [
  {
   "cell_type": "code",
   "execution_count": 1,
   "metadata": {
    "executionInfo": {
     "elapsed": 10827,
     "status": "ok",
     "timestamp": 1759514788361,
     "user": {
      "displayName": "Gagandeep kaur Khera",
      "userId": "10725934833054894141"
     },
     "user_tz": -330
    },
    "id": "7Mt5mqaPWlQy"
   },
   "outputs": [],
   "source": [
    "! pip install -q cassio datasets langchain langchain-huggingface langchain-groq langchain_community"
   ]
  },
  {
   "cell_type": "code",
   "execution_count": 2,
   "metadata": {
    "executionInfo": {
     "elapsed": 8299,
     "status": "ok",
     "timestamp": 1759514796663,
     "user": {
      "displayName": "Gagandeep kaur Khera",
      "userId": "10725934833054894141"
     },
     "user_tz": -330
    },
    "id": "RW0ctjGGEYrY"
   },
   "outputs": [],
   "source": [
    "from langchain.vectorstores.cassandra import Cassandra\n",
    "from langchain.indexes.vectorstore import VectorStoreIndexWrapper\n",
    "from langchain_groq import ChatGroq\n",
    "from langchain_huggingface import HuggingFaceEmbeddings"
   ]
  },
  {
   "cell_type": "code",
   "execution_count": 3,
   "metadata": {
    "executionInfo": {
     "elapsed": 930,
     "status": "ok",
     "timestamp": 1759514797595,
     "user": {
      "displayName": "Gagandeep kaur Khera",
      "userId": "10725934833054894141"
     },
     "user_tz": -330
    },
    "id": "T6__fMHpFrqf"
   },
   "outputs": [],
   "source": [
    "from datasets import load_dataset\n",
    "import cassio"
   ]
  },
  {
   "cell_type": "code",
   "execution_count": 4,
   "metadata": {
    "colab": {
     "base_uri": "https://localhost:8080/"
    },
    "executionInfo": {
     "elapsed": 8635,
     "status": "ok",
     "timestamp": 1759514806232,
     "user": {
      "displayName": "Gagandeep kaur Khera",
      "userId": "10725934833054894141"
     },
     "user_tz": -330
    },
    "id": "WqW4asayGGD4",
    "outputId": "b19da3f3-79db-4fb9-bbfe-7fc5f0d4e99a"
   },
   "outputs": [
    {
     "name": "stdout",
     "output_type": "stream",
     "text": [
      "Requirement already satisfied: pyPDF2 in /usr/local/lib/python3.12/dist-packages (3.0.1)\n"
     ]
    }
   ],
   "source": [
    "!pip install pyPDF2"
   ]
  },
  {
   "cell_type": "code",
   "execution_count": 5,
   "metadata": {
    "executionInfo": {
     "elapsed": 47,
     "status": "ok",
     "timestamp": 1759514806281,
     "user": {
      "displayName": "Gagandeep kaur Khera",
      "userId": "10725934833054894141"
     },
     "user_tz": -330
    },
    "id": "dr1if35kGJ5r"
   },
   "outputs": [],
   "source": [
    "from PyPDF2 import PdfReader"
   ]
  },
  {
   "cell_type": "code",
   "execution_count": null,
   "metadata": {
    "executionInfo": {
     "elapsed": 13,
     "status": "ok",
     "timestamp": 1759514806296,
     "user": {
      "displayName": "Gagandeep kaur Khera",
      "userId": "10725934833054894141"
     },
     "user_tz": -330
    },
    "id": "4Ag-f2LiGT43"
   },
   "outputs": [],
   "source": [
    "GROQ_API_KEY=\"\"\n",
    "ASTRA_DB_APPLICATION_TOKEN=\"\"\n",
    "ASTRA_DB_ID = \"\""
   ]
  },
  {
   "cell_type": "code",
   "execution_count": 7,
   "metadata": {
    "executionInfo": {
     "elapsed": 71,
     "status": "ok",
     "timestamp": 1759514806368,
     "user": {
      "displayName": "Gagandeep kaur Khera",
      "userId": "10725934833054894141"
     },
     "user_tz": -330
    },
    "id": "a_40eJR2Hs7s"
   },
   "outputs": [],
   "source": [
    "pdfreader = PdfReader(\"kep.pdf\")"
   ]
  },
  {
   "cell_type": "code",
   "execution_count": 8,
   "metadata": {
    "executionInfo": {
     "elapsed": 2019,
     "status": "ok",
     "timestamp": 1759514808396,
     "user": {
      "displayName": "Gagandeep kaur Khera",
      "userId": "10725934833054894141"
     },
     "user_tz": -330
    },
    "id": "w8lxQ_SLJCh7"
   },
   "outputs": [],
   "source": [
    "from typing_extensions import Concatenate\n",
    "raw_text = \"\"\n",
    "for i, page in enumerate(pdfreader.pages):\n",
    "  content = page.extract_text()\n",
    "  if content:\n",
    "    raw_text+=content"
   ]
  },
  {
   "cell_type": "markdown",
   "metadata": {
    "id": "RceObtd2I3O0"
   },
   "source": []
  },
  {
   "cell_type": "code",
   "execution_count": 9,
   "metadata": {
    "colab": {
     "base_uri": "https://localhost:8080/",
     "height": 174
    },
    "executionInfo": {
     "elapsed": 28,
     "status": "ok",
     "timestamp": 1759514808425,
     "user": {
      "displayName": "Gagandeep kaur Khera",
      "userId": "10725934833054894141"
     },
     "user_tz": -330
    },
    "id": "w9jr1F6rK453",
    "outputId": "26bcc561-1680-4e14-acab-2676177457ec"
   },
   "outputs": [
    {
     "data": {
      "application/vnd.google.colaboratory.intrinsic+json": {
       "type": "string"
      },
      "text/plain": [
       "' Architectur al HardwareKEPT O is a brand that is widely used in mid-le vel residen \\x00al and commer cial mark ets.\\nWe blend cu\\x00ng-edg e technology with contempor ary design. of products in our collec\\x00on,\\nour best-selling items include Kitchen hardware and accessories combined with close t slides,\\nsliding par\\x00\\x00ons, furnitur e har dware, and bed ﬁ\\x00ngs. 14 y ears of e xperience in the har dware\\nmark et, which has turned into a passion for the Kitchen segmen t. I had always wanted to\\nlaunch my own kitchen ﬁ\\x00ngs brand, KEPT O, and a\\x00er years of hard work and knowledg e\\nacquisi\\x00on, I w as able t o do it.\\nGOALS & MISSION \\nTO PR OVIDE SER VICE S AND PR ODUC TS OF HIGH QU ALITY A T RE ASONABLE PRICE S\\nFOR ALL C ONSUMER SE GMENT .About  Architectur al Hardware\\nINDEX\\n1. Kit chen Accessories\\n2. Tandem Bo x\\n3. Aut o Hing es\\n4. Pr oﬁles \\n5. Telesc opic Channel\\n6. Codr o Channel\\n7. Sliding S ystem\\n8. W ardrobe Accessories\\n9. Bed Fi\\x00ngs\\n10. Door Closer\\n11. Cabine t Fixing\\n12. P ocket Door\\n13. W ardrobe Slidings2199921999E- Swing with tw o tray & \\nIt\\'s a high chr ome pla ted wir e\\nstructur e and  with an \\x00skid ma t  \\nComes with L / R \\nSuitable f or Bliend c orner c abinet\\ndoor siz e  450 mm\\nLoad c apacity : Ma x 10 kg / each tr ay\\nE- Swing with tw o tray &  It\\'s a high\\nGray pla ted  wir e structur e and\\nmelamine Comes with L / R \\nSuitable f or Bliend c orner\\ncabinet door siz e 450 mm Load\\ncapacity : Ma x 10 kg / each tr aySo\\x00 Close\\nUniv ersal Corner Show hand Corner\\nFlat wir e Univ ersal c orner allow and\\nop\\x00onal use of  s torage in a c orner\\ncabinet Impr oved structur e with\\nSo\\x00 Close s ystem\\nAvailable Finish /-Gr ey / Chr ome 29999\\n9999\\n10999\\n11999\\n12999\\nBo\\x00el Pull out with Fla t Wir e \\nTwo \\x00re Mul\\x00 Slider Side\\nMoun \\x00ng Pull out \\nUnit with ABS base with ﬂa t Wir e \\nFull Ext ension Slides\\nAvailable Finish - Gr ey / Chr ome8999\\n9999\\n10999\\n11999Bo\\x00el Pull out with Glass bask et\\nTwo \\x00re Mul\\x00 Slider Side\\nMoun \\x00ng Pull out \\nUnit with ABS base with side Glass\\nFull Ext ension Slides\\nAvailable Finish - Gr ey2KKA -111\\n-A L / R 450 mm1KKA -111\\nL / R450 mm\\n3 KKA - 112 450mm\\n150mm\\n200mm\\n250mm\\n300mmKKA -113 ADescription IMAGE Mrp QTY Code Size\\n150mm\\n200mm\\n250mm\\n300mm4 KKA - 113\\n5\\nUnit c an mov ed to the fr ont when Opening \\nThe Bask et swing out when the c abinet is \\nbeing Opened Univ ersal for le \\x00 &\\nright Openable  It will be Supplied along\\nwith 6 inner and 6 door bask et Suit able\\nfor cabinet width 450 & 600 mm \\nFinish- Chr ome6 KKA - 114 450mm\\n600mm35999\\n38999So\\x00 Close\\nSo\\x00 Close\\nSo\\x00 Close\\nSo\\x00 Close\\nSo\\x00 Close\\nTandem P antry\\nUnit c an mov ed to the fr ont when Opening \\nThe Bask et swing out when the c abinet is \\nbeing Opened \\nUniv ersal for le \\x00 and righ t Openable \\nIt will be Supplied along with 6 inner and 6 \\ndoor bask et\\nSuitable f or cabinet width 450 & 600 mm\\nFinish - Gr ey7 KKA - 114-A 35999\\n38999450mm\\n600mm\\nSo\\x00 Close\\n Architectur al Hardware\\nwww .keptohar dware.com\\nTandem P antryRolling Shu\\x00 er \\nKKA - 116 Pvc 450 mm Material - PV C 15999\\nPvc 600 MmFinish - Gr ey / Whit e 16999\\nPvc 900 MmSuitable f or the c abinet width - 450 / 600 / \\n900mm17999\\nCabinet Depth -350 mm\\nSuitable f or cabinet Heigh t - 1400 mm\\nRolling Shu\\x00 er \\nblack 450  mm\\nblack 600 mm\\nblack 900 mmMaterial - PV C 15999\\n16999\\n17999KKA - 116 A Finish - Black\\nSuitable f or the c abinet width - 450 / 600 / \\n900mm\\nCabinet Depth -350 mm\\nSuitable f or cabinet Heigh t - 1400 mmShort P antry\\nUnit c an mov ed to the fr ont when Opening \\n450mmThe Bask et swing out when the c abinet is \\nbeing Opened \\nKKA - 114 C 600mm Univ ersal for le \\x00 and righ t Openable \\nIt will be Supplied along with 4 inner and 4 \\ndoor bask et\\nSuitable f or cabinet width 450 & 600 mm\\nFinish - Gr ey / Chr ome \\nHeigh t Min - 1500 mm\\nSo\\x00 Close\\nTall Unit\\nKKA - 115 300mmIndividually adjus table shelv es for ﬂe xiable \\nuses, it\\'s desing allow s the t all cabinets t o be \\nfully u\\x00liz ed width & Hiegh t45999\\n400mm Suitable f or cabinet with door siz e of 300 \\nmm & 400 mm 55999\\nWith  In tegreted so\\x00 close slide \\nLoad c apacity / Fully e xtension s traigh t unit - \\n80 kg\\nSo\\x00 CloseKKA - 114-B 450mm\\n600mmGlass T andem P antry\\nUnit c an mov ed to the fr ont when Opening \\nThe Bask et swing out when the c abinet is \\nbeing Opened \\nUniv ersal for le \\x00 and righ t Openable \\nIt will be Supplied along with 6 inner and 6 \\ndoor bask et\\nSuitable f or cabinet width 450 & 600 mm\\nSo\\x00 Close42999\\n48999\\n26999\\n28999 Architectur al Hardware\\n11\\n129\\n108\\nwww .keptohar dware.com Architectural Hardware Architectural Hardware Architectural Hardware Architectur al Hardware\\nGlass R olling Stu\\x00 er \\nMaterial - PV C \\nFinish - Gr ey  / Black\\n13\\n14KKA - 116 B 600Suitable f or the c abinet width - 450 / 600 / \\n900mm29500\\nCabinet Depth -350 mm\\nSuitable f or cabinet Heigh t - 1400 mm\\nGlass & Dishr ack\\nIt is a classic dining boar d class y, Resillien t \\nfunc\\x00onalit is easily ﬁ\\x00 ed2800\\nFull Load dishr ack bending r esuded by 90 % 3800600 mm\\nKKA - 117 800 mm\\n900 mmMade in s tainless s teel \\n4500 Avaiable siz es 600 / 800/ 900mm \\nFinish - St ainless St eel \\n21999\\n26999\\n32999Magic Collect or\\nWall Unit li\\x00 s ystem pr oviding mor e \\nergonomics and user c onvience \\nOpen easily in an y desir e posi\\x00on close \\nsilen tly and e ﬀortless y450mm\\nKKA - 118 600mm\\n900mmSuitable f or ov erhead c abinet of 600 mm & \\n900mm\\nWeigh t capacity - 10 kgs \\n800\\n900\\n900\\n1200\\n1200\\n1400KKA - 119Cutlery T ray & Dr awer Og aniser\\nAs with all our pr oducts w e use high quality \\n&eas y to clean ma terial \\nSuitable f or dr awer cabinet width of 450 , \\n500, 600, 700, 800, 900mm\\nAvailable ﬁnish - Gr ey 450 mm\\n500 mm\\n600 mm\\n700 mm\\n800 mm\\n900 mm \\n450*4 Wick er Bask et  with locking s ystem 5000\\n450*6 Made fr om Er oupean 5500\\nKKA -120 450*8 Natural Wick er , St orage bask et for Kit chen 6000\\n600*4 with Beach wood Fr ame with in tergated \\nhandle 5000\\n600*6 Suitable f or cabinet width of 450 & 600mm \\n& Depth 550 mm5500\\n600*8\\nMaterial Na tural wick er + Beach w ood 6000\\nCarousal Coner \\nKKA - 121\\nWooden Base in Chr ome Finish 24999 800 mm\\n900 mm\\nSize - 800 / 900 mm26999\\nFINISH : GREY\\n15\\n16\\n17\\n18\\nwww.keptohar dware.com Architectural Hardware Architectur al Hardware\\n480*20mAn\\x00 skid ma t pur e (450 mm by 20 m trs \\n)Bubble T ype4500\\nKKA - 122 480*20m An\\x00 skid ma t pur e (450 mm by 20 m trs \\n)Tricut T ype5500\\n480*20mAn\\x00 skid ma t pur e (450 mm by 20 m trs \\n)Diamond T ype6500\\n20\" Dish Rack 1100\\nKKA  - 123 22\" Finish - St ainless s teel 1125\\n24\" Material - SS wir e with Cap 1375\\nKKA  - 123 A20\" Plate Holder 1100\\n22\" Finish - St ainless s teel 1125\\n24\" Material - SS wir e with Cap 1375\\nAutolid Dus tbin\\n9 ltr sRound W aste bin f or under sink c abinet & \\nDrawer ar e eas y  to use \\n4000\\nKKA - 124\\n14 ltr sThis W aste bin ar e made fr om St ainless s teel \\n& Eco Friendly plas \\x00c5000can be ﬁt with 450 mm Cabinet \\nThis w aste bin a valable in 9 ltr & 14 ltr\\nFinish A vailable in Gr ey & St ainless s teel\\nAssort ed Dr awer W aste Bin Pullout\\nAssort ed Dr awer w aste bin with handle \\nDesigned t o ﬁx the plas \\x00c  & the handles \\nmak e Wet & Dry w aste collec\\x00ons easier \\nKKA - 125Pa\\x00end aut oma \\x00c e xtrac\\x00on machanisim \\nrunning on ball bearing slides8000\\nCan be ﬁt with 400 mm c abinet \\nThese W aste bins ar e available 11 + 11 & 20 \\n+ 20 ltr\\nFinish A vailable - St ainless St eel & Gr ey\\nKKA - 126\\n7500Bi Fold Li\\x00 up S ystem \\nCabinet Heigh t - 600 mm t o 800mm\\nDoor W eigh t - 7kg t o 8 kg\\nwww.keptohar dware.com19\\n20\\n21\\n22\\n23\\n24\\n25\\n Architectural Hardware Architectural Hardware Architectural Hardware Architectural Hardware Architectural Hardware\\n20\" Thali Holder 1100\\nKKA  - 123 B 22\"Finish - St ainless s teel \\n1125\\n24\"Material - SS wir e with Cap\\n1375\\nSlim T andem Bo x\\n300 mmConceled Full e xtension ,Dynamic load \\ncapacity 40 kg3100\\n350 mm Tool Fr ee assembly and r emov al of dr awer 3400\\nKTB - 1040 SG 400 mmSilen t System guar antees smooth run \\nwithout noise 3700\\n450 mmUp & Down adjus tmen t , Le \\x00 & righ t \\nadjus tmen t4000\\n500 mm Drawer Side bo x , Heigh t - 116 mm 4500\\n550 mmAvailable siz es - 300 , 400 , 450, 500,550 & \\n600mm4800\\n600 mm Available Finish - Gr ey 5100\\n Architectur al Hardware\\nSlim T andem Bo x\\n300 mm\\n350 mm\\n400 mm\\n450 mm\\n500 mm\\n550 mm\\n600 mmConceled Full e xtension ,Dynamic load \\ncapacity 40 kg\\n2800\\n3200\\n3400\\n3800\\n4200\\n4600\\n5000Tool Fr ee assembly and r emov al of dr awer \\nKTB -1040 SGSilen t System guar antees smooth run \\nwithout noise \\nUp & Down adjus tmen t , Le \\x00 & righ t \\nadjus tmen t\\nDrawer Side bo x , Heigh t - 84 mm \\nAvailable siz es - 300 , 400 , 450, 500,550 & \\n600mm\\nAvailable Finish - Gr ey \\n26\\n27\\n28\\n29KKA - 127 7500Bi Fold Li\\x00 up S ystem \\nCabinet Heigh t - 650 mm t o 850mm\\nDoor W eigh t - 7kg t o 8 kg\\n Architectural Hardware\\nKKA - 128As per \\nDrawingTandem P antry Unit \\nThese is a vailable with us as per the \\nrequir emen t\\nDepth min - 500 mm \\nFinish - Gr ey\\n Architectural Hardware\\nSlim T andem Bo x\\n300 mmConceled Full e xtension ,Dynamic load \\ncapacity 40 kg3300\\n350 mmTool Fr ee assembly and r emov al of dr awer 3700\\nKTB - 1040 SG 400 mmSilen t System guar antees smooth run \\nwithout noise 4000\\n450 mmUp & Down adjus tmen t , Le \\x00 & righ t \\nadjus tmen t4300\\n500 mmDrawer Side bo x , Heigh t - 167 mm 4800\\n550 mmAvailable siz es - 300 , 400 , 450, 500,550 & \\n600mm5100\\n600 mmAvailable Finish - Gr ey 5400\\n30www.keptohar dware.comAlu 1800\\nKAPS - 007Rose g old 2000\\nCeramic Black\" C\" GOLLA Pr oﬁle\\nAluminium E dge Golla Pr oﬁle\\nSize - 3000 mm2000\\nIron Gr ay 2000\\n1600\\nKAPS - 0081800\" L\" GOLLA Pr oﬁle\\nAluminium E dge Golla Pr oﬁl\\nSize - 3000 mm1800Alu\\nRose g old \\nCeramic Black\\nIron Gr ay1800\\n\"J \" Pr oﬁle1400\\nAluminium J Pr oﬁle 1600\\nSize - 3000 mm1600Alu\\nKAPS - 009 Rose g old \\nCeramic Black\\nIron Gr ay 1600\\nKAPS - 010Alu \"F \" Pr oﬁle 1200\\nRose g old Aluminium F Handle Pr oﬁle 1400\\nCeramic Black Size - 3000 mm 1400\\nIron Gr ay 1400\\n Architectur al Hardware\\n33\\n34\\n35\\n36\\n Architectural Hardware Architectural Hardware Architectural Hardware Architectural Hardware\\n Architectural Hardware0 Crank 220\\nKAH SC -001 8 Crank Slide On So\\x00 close hing e 250\\n16 cr ank 280\\nKAH CL - 011 SS Clip On SS  So\\x00 close Hing es 0 Crank \\n8 Crank\\n16 Cr ank350\\n370\\n400\\nKAH SL-0010 Crank\\n8 Crank\\n16 Cr ankNormal Hing es Slide On65\\n75\\n85\\nKAH CL-011MS0 Crank\\n8 Crank\\n16 Cr ankClip On MS So\\x00 close Hing es \\n250\\n270\\n300www .keptohar dware.com31\\n32\\n37\\n38www.keptohar dware.comAlu 2200\\nRose g old 4 mm Glass \" I \" handle pr oﬁle2400\\nKAPS - 014Ceramic Black\\nsize - 30002400\\nIron Gr ay 2400\\n Architectur al Hardware\\nKAH-CL- 0200 Crank \\n8 Crank350\\n370\\n400\\n1400\\n1600\\nKAPS - 006 \" G \" Handle Pr oﬁle f or Kit chen 1600Alu\\nRose g old \\nCeramic Black\\nIron Gr ay 1600\\nKAH CL-006165 Degr ee Hing e\\nHeavy Duty Door Hing e for Corner\\n550\\n350\\n19 mm pr oﬁle hing esSo\\x00 Close 135 Degr ee Hing e\\nHeavy Duty Door Hing e for CornerKAH CL-007135 degr ee165 degr ee\\n Architectural Hardware40\\n41\\n42\\n43\\n44\\n Architectural Hardware Architectural Hardware Architectural Hardware Architectural Hardware Architectural HardwareT- 6 mm 800\\nT- 8 mm 1200KAPS - 011\\nT- 12 mm 1400\\nT- 19 mm 1600\\nT- 25 mm 1800\"T \" Pr oﬁle\\nFinish - PVD 304\\nSize - 6/8/12/19/25 mm \\n5 mm Gr ove \\nAvailable Finish\\nMirrior , R ose Gold , Black , Chr ome \\nKAPS - 0044mm Glass Pr oﬁle \\n45 mm back width Pr oﬁle\\nSize - 3000 mmAlu\\nRose g old \\nCeramic Black\\nIron Gr ay\\nGold1600\\n2200\\n2200\\n2200\\n2200\\nAlu 2400\\nRose g old 2600\\nKAPS - 012\\nCeramic Black 2600\\nIron Gr ay4mm Glass \" G \" handle pr oﬁle \\n72 mm back width Pr oﬁle\\nSize - 3000 mm 2600\\nGold 2600\\n39\\n Architectural Hardware Architectural Hardware Architectural Hardware\\n45\\n46www.keptohar dware.comRose Gold Proﬁle S ynchr o System \\nKGSF -011- HCeramic Black Available with US \\nGold We provide full Solu\\x00on Acc ording t o your \\nRequir emen t\\nBrush Gold We Provide with Ins talla\\x00ons \\n Architectur al Hardware\\nAlu Aluminium Sliding Sky T rack \\n3600 KST - 051\\n(3600mm) Black Leng th - 3600 mm\\n7000\\nRose Gold Top & Bo\\x00 om T rack set with CAP\\n7000\\nRose Gold Armadio  S ystem\\n36000\\nCeramic Black Max Heigh t - 3000 mm\\n36000\\nKSLD - 5001 Gold Max Width - 1500 mm E ach door \\n36000\\nBrush Gold Finish a vailable - R ose Gold , Cer amic Black\\n36000\\nGold & Brush Gold \\nAnodise Aluminium Sliding Sky T rack 2400 KST -051 \\n(2400mm)Black Leng th - 2400 mm 5000\\nRose Gold Top & Bo\\x00 om T rack set with CAP 5000\\n Architectural Hardware Architectural Hardware Architectural Hardware Architectural HardwareAlu 1500\\nRose g old 4 mm Glass Fr ame Pr oﬁle 1800\\nKAPS - 001 Ceramic Black 20 mm Back width 1800\\nIron Gr ay Size - 3000 mm 1800\\nGold 1800\\nAlu 2000\\nRose g old 4 mm Glass \" I \" Handle Pr oﬁle 2200\\nKAPS -002 Ceramic Black Size - 3000 mm 2200\\nIron Gr ay 2200\\nGold 2200\\nTopLine Sliding ﬁ\\x00ng \\nKSL - 051 Wardrobe Sliding with So\\x00 close 3200\\nSky Door sliding \\n2Door Kit Set\\nTop Scr ew\\nSOFT CLOSE\\n50\\n51\\n5247\\n48\\n49\\n Architectural Hardware\\n53 Architectur al Hardware\\nRose Gold Telesc opic S ystem \\nCeramic Black With 45 * 16 mm width Pr oﬁle KSGF - 081 Gold \\nAvailable with US \\nBrush Gold We provide full solu\\x00on Acc ording t o your \\nrequir emen t\\nWe Provide with Ins talla\\x00on\\nComes in 1 ﬁx 2 Slide  , 1 ﬁx 3 Side \\n1 ﬁx 4 Slide door s \\nKUDR - 016\" Wooden  Bask et Codr o Channel -500 mm 1250\\nKUDR -018 \" With So\\x00 Close 1450\\nKUDR - 020 \" Sizes - 400/450/500 mm 1650\\nWire Bask et Codr o Channel KUDR - 020\"with So\\x00 Close 2000\\nSize - 500 mm\\n Single T rouser Rack \\nAluminium Allo y ABS + Ir on\\nKWS -GR -001 So\\x00 Close 8500\\nSize - Width - 350 mm\\nDepth - 455 mm, Heigh t - 115 mm\\n Architectural Hardware Architectural Hardware Architectural Hardware Architectural HardwareCoat Hang er Pull Out\\nKWS-GR-006 Aluminium Allo y ABS + Ir on 7200\\nSo\\x00 Close \\nSize - Width -115 , Depth - 455 ,Heigh t -115\\nCloth Li\\x00 er Pull Down\\nKWS -GR-007 Hydrolic r od with So\\x00 Close 7000\\nSize - Width Adj- 850 -1150 mm\\nEnd Caps f or \"G\" Pr oﬁle \\nEND CAP -006Finish A vailable - Alu, R ose Gold , Cer amic \\nBlack, Ir on Ga y , SS Brush , CP , Gold 100\\n\"L \" Connect or for\\nKPCA\\n00445 mm & 20 mm Pr oﬁle 120\\nFinish - Alu \\n Architectural Hardware\\n Architectural Hardware Architectural Hardware Architectural Hardware54\\n55\\n56\\n57\\n58\\n59\\n60\\n61www.keptohar dware.com Architectur al Hardware\\nKPO -103 pc Push t o Open Aluminium 4 holes \\nMaterial - Aluminium 150\\n68KPL -101\\nPVC LEGpcs 50PVC LEG \\nSIZE -4\"\\nFinish - Black\\nConnect or for Gola Pr oﬁle \\nKPCA -007 Finish - Aluminium 150\\nKPO - 102 pcs Push t o Open Bu\\x00 on 150\\nMaterial -PV C \\n66\\n67 Architectur al Hardware\\n Architectur al Hardware\\n Architectur al Hardware\\n Architectural Hardware600 Trouser Pull Out 9500\\n700 Aluminium Alloy ABS + Ir on 10500 KWS- GR-005\\n800 So\\x00 Close 11500\\n900 Size -Width - 600/700/800/900 mm 12500\\nDouble T rouse Rack\\nKWS - GR-002\\n64Aluminium Alloy ABS + Ir on 10500\\nSo\\x00 Close \\nSize - Width - 630 mm , Depth - 455 mm\\nHeigh t - 155 mm\\n600 Jewellary Or ganiser 15000\\nKWS -GR- 003 700 Aluminium Alloy ABS + Ir on 16400\\n800 So\\x00 Close 17500\\n900 Size -Width - 600/700/800/900 mm 18500\\nShoe Rack\\nKWS-GR-004 600 Aluminium Alloy ABS + Ir on 8000\\n900 So\\x00 Close 10000\\nSize -Width - 600/ 900 mm\\n Architectural Hardware Architectural Hardware\\n Architectural Hardware Architectural Hardware\\n656362\\n69www.keptohar dware.com Architectur al Hardware\\nKMB - 0061200\\n1500Morph y Bed \\nSizes - Heigh t - 2000 mm,\\nThickness - 150 mm120000\\n145000\\nStandar d Arm Door Closer\\nKDC -880KDC -860 60 kg\\nWeigh t Capacity - 60 kg & 80 kg 1480\\n80 kg\\nFinish - Silv ers 2200\\n74\\n75\\n Architectural HardwareGlass Self support \\nKGS - 104 Pc Material - Nick el Pla ted 30\\nWeigh t - 9 grms\\nAvailable Finish - Gold, Black ,Brush Gold 50\\nKBF - 005Bed Fr ame\\nSize - 5 \\x00 , Thick eness -5mm 3400\\n1280\\n1280\\nKBG -005 A1280Bed Gas Spring\\n1280\\n1280100 kg\\n125 kg\\n150 kg\\n175 kg\\n200 kg\\n250 kg 1280\\n72\\n7370\\nKMF -105 SETMini Fix\\nFinish - Nickle Pla ted\\nMaterial - Zink71\\nKWD - 106 PC Wooden Dow el \\nSize - 8 x 40 mm\\n Architectural Hardware\\n Architectur al Hardware\\n Architectural Hardware\\n Architectural Hardware\\n Architectural Hardware\\n76www.keptohar dware.com Architectur al Hardware\\n1600\\n1650\\n1700\\nKPD - 14011750Pocket Door Fi\\x00ng\\nFinish - St ainless St eel \\nWeigh t Capacity - 15 kg \\nSizes Available - 12\" , 14\" 16\" , 18 \" 20\"\\n22\", 24\", 26\" & 28\"1800\\n1850\\n1900\\n195012\"\\n14\"\\n16\"\\n18\"\\n20\"\\n22\"\\n24\"\\n26\"\\n28\" 2000\\n Architectural Hardware\\nK SLIDE 10 ZK\\nK SLIDE 12 ZK\\nK SLIDE 14 ZK\\nK SLIDE 16 ZK\\nK SLIDE 18 ZK\\nK SLIDE 20 ZK\\nK SLIDE 22 ZK\\nK SLIDE 24 ZK77\\nKepto Dr awer Chanel, 10 ZK\\nKepto Dr awer Chanel, 12 ZK\\nKepto Dr awer Chanel, 14 ZK\\nKepto Dr awer Chanel, 16 ZK \\nKepto Dr awer Chanel, 18 ZK \\nKepto Dr awer Chanel, 20 ZK\\nKepto Dr awer Chanel, 22 ZK \\nKepto Dr awer Chanel, 24 ZK  300\\n360\\n420\\n480\\n540\\n600\\n660\\n720\\n Architectural Hardware\\n Architectural Hardware\\nK SLIDE 10 SC/ZK\\nK SLIDE 12 SC/ZK\\nK SLIDE 14 SC/ZK\\nK SLIDE 16 SC/ZK\\nK SLIDE 18 SC/ZK\\nK SLIDE 20 SC/ZK\\nK SLIDE 22 SC/ZK\\nK SLIDE 24 SC/ZK78\\n79Kepto So\\x00 Close Dr awer Chanel 10 ZK\\nKepto So\\x00 Close Dr awer Chanel, 12 ZK\\nKepto So\\x00 Close Dr awer Chanel, 14 ZK\\nKepto So\\x00 Close Dr awer Chanel, 16 ZK \\nKepto So\\x00 Close Dr awer Chanel, 18 ZK \\nKepto So\\x00 Close Dr awer Chanel, 20 ZK\\nKepto So\\x00 Close Dr awer Chanel, 22 ZK \\nKepto So\\x00 Close Dr awer Chanel, 24 ZK  550\\n660\\n770\\n880\\n990\\n1100\\n1210\\n1320\\n Architectural Hardware Architectural Hardware Architectur al HardwareRou\\x00ne cleaning is essen \\x00al, especially in en vironmen ts tha t have elev ated lev els of a tmospheric c orrosion. Compan y has mechanism w arranty not \\nfor Red spot.Informa \\x00on\\nThe t echnic al pr esen ta\\x00ons and dimensions in illus tra\\x00ons and dr awings ar e non binding.\\nWe reser ve the righ t to mak e chang es to speciﬁc a\\x00ons a t any \\x00me. W e do not accept an y responsibility f or an y err ors which ma y occur in the \\nAll siz es in millime ter (mm).\\nThe Pr oducts in this lis t are the ones tha t are curr ently in the KEPT O pr oduct r ange .\\nSince our pr oduct r ange is upda ted fr equen tly , please f eel fr ee contact us if y ou cannot ﬁnd an y par\\x00cular inf orma \\x00on.\\nThe prin ted colour s indiac a\\x00ng the surf ace ﬁnishes ar e not 100% true . but t o provide a use ful guide.\\nPictur es ma y show designs which ar e diﬀ erent to the sc ope of deliv ery.\\nProduct prices ar e subject t o chang e without prior no\\x00ce.\\nsales@k eptohar dware.com | g erman y@k eptohar dware.com\\nwww.keptohar dware.com\\n'"
      ]
     },
     "execution_count": 9,
     "metadata": {},
     "output_type": "execute_result"
    }
   ],
   "source": [
    "raw_text"
   ]
  },
  {
   "cell_type": "code",
   "execution_count": 10,
   "metadata": {
    "executionInfo": {
     "elapsed": 11124,
     "status": "ok",
     "timestamp": 1759514819550,
     "user": {
      "displayName": "Gagandeep kaur Khera",
      "userId": "10725934833054894141"
     },
     "user_tz": -330
    },
    "id": "nvpdLN1kK_PP"
   },
   "outputs": [],
   "source": [
    "cassio.init(token=ASTRA_DB_APPLICATION_TOKEN, database_id=ASTRA_DB_ID)"
   ]
  },
  {
   "cell_type": "code",
   "execution_count": null,
   "metadata": {
    "executionInfo": {
     "elapsed": 8,
     "status": "ok",
     "timestamp": 1759514819551,
     "user": {
      "displayName": "Gagandeep kaur Khera",
      "userId": "10725934833054894141"
     },
     "user_tz": -330
    },
    "id": "bLNzt4fxMyob"
   },
   "outputs": [],
   "source": [
    "import os\n",
    "os.environ[\"GROQ_API_KEY\"] = \"\""
   ]
  },
  {
   "cell_type": "code",
   "execution_count": 12,
   "metadata": {
    "colab": {
     "base_uri": "https://localhost:8080/"
    },
    "executionInfo": {
     "elapsed": 10089,
     "status": "ok",
     "timestamp": 1759514829641,
     "user": {
      "displayName": "Gagandeep kaur Khera",
      "userId": "10725934833054894141"
     },
     "user_tz": -330
    },
    "id": "LmYxL0UhLSMZ",
    "outputId": "93c5beac-8a60-42c8-cb71-e621342d2b4d"
   },
   "outputs": [
    {
     "name": "stderr",
     "output_type": "stream",
     "text": [
      "/usr/local/lib/python3.12/dist-packages/huggingface_hub/utils/_auth.py:94: UserWarning: \n",
      "The secret `HF_TOKEN` does not exist in your Colab secrets.\n",
      "To authenticate with the Hugging Face Hub, create a token in your settings tab (https://huggingface.co/settings/tokens), set it as secret in your Google Colab and restart your session.\n",
      "You will be able to reuse this secret in all of your notebooks.\n",
      "Please note that authentication is recommended but still optional to access public models or datasets.\n",
      "  warnings.warn(\n"
     ]
    }
   ],
   "source": [
    "llm = ChatGroq(model_name=\"llama-3.3-70b-versatile\")\n",
    "model_name = \"sentence-transformers/all-MiniLM-L6-v2\"\n",
    "embedding = HuggingFaceEmbeddings(model_name=model_name)"
   ]
  },
  {
   "cell_type": "code",
   "execution_count": 13,
   "metadata": {
    "executionInfo": {
     "elapsed": 1097,
     "status": "ok",
     "timestamp": 1759514830740,
     "user": {
      "displayName": "Gagandeep kaur Khera",
      "userId": "10725934833054894141"
     },
     "user_tz": -330
    },
    "id": "s33WiBsHMNO-"
   },
   "outputs": [],
   "source": [
    "astra_vector_store = Cassandra(\n",
    "    embedding = embedding,\n",
    "    table_name=\"qa_mini_demo\",\n",
    "    session=None,\n",
    "    keyspace=None\n",
    ")"
   ]
  },
  {
   "cell_type": "code",
   "execution_count": 14,
   "metadata": {
    "executionInfo": {
     "elapsed": 5,
     "status": "ok",
     "timestamp": 1759514830759,
     "user": {
      "displayName": "Gagandeep kaur Khera",
      "userId": "10725934833054894141"
     },
     "user_tz": -330
    },
    "id": "0DoPPH3vNl8q"
   },
   "outputs": [],
   "source": [
    "\n",
    "from langchain.text_splitter import CharacterTextSplitter\n",
    "text_splitter = CharacterTextSplitter(\n",
    "    separator=\"\\n\",\n",
    "    chunk_size=800,\n",
    "    chunk_overlap = 200,\n",
    "    length_function= len,\n",
    ")\n",
    "texts = text_splitter.split_text(raw_text)"
   ]
  },
  {
   "cell_type": "code",
   "execution_count": 15,
   "metadata": {
    "colab": {
     "base_uri": "https://localhost:8080/"
    },
    "executionInfo": {
     "elapsed": 8,
     "status": "ok",
     "timestamp": 1759514830770,
     "user": {
      "displayName": "Gagandeep kaur Khera",
      "userId": "10725934833054894141"
     },
     "user_tz": -330
    },
    "id": "Z4vtMG9dOGvn",
    "outputId": "1afcf0d6-8d19-43d6-fdb3-44b71b8fce99"
   },
   "outputs": [
    {
     "data": {
      "text/plain": [
       "['Architectur al HardwareKEPT O is a brand that is widely used in mid-le vel residen \\x00al and commer cial mark ets.\\nWe blend cu\\x00ng-edg e technology with contempor ary design. of products in our collec\\x00on,\\nour best-selling items include Kitchen hardware and accessories combined with close t slides,\\nsliding par\\x00\\x00ons, furnitur e har dware, and bed ﬁ\\x00ngs. 14 y ears of e xperience in the har dware\\nmark et, which has turned into a passion for the Kitchen segmen t. I had always wanted to\\nlaunch my own kitchen ﬁ\\x00ngs brand, KEPT O, and a\\x00er years of hard work and knowledg e\\nacquisi\\x00on, I w as able t o do it.\\nGOALS & MISSION \\nTO PR OVIDE SER VICE S AND PR ODUC TS OF HIGH QU ALITY A T RE ASONABLE PRICE S\\nFOR ALL C ONSUMER SE GMENT .About  Architectur al Hardware\\nINDEX\\n1. Kit chen Accessories',\n",
       " \"GOALS & MISSION \\nTO PR OVIDE SER VICE S AND PR ODUC TS OF HIGH QU ALITY A T RE ASONABLE PRICE S\\nFOR ALL C ONSUMER SE GMENT .About  Architectur al Hardware\\nINDEX\\n1. Kit chen Accessories\\n2. Tandem Bo x\\n3. Aut o Hing es\\n4. Pr oﬁles \\n5. Telesc opic Channel\\n6. Codr o Channel\\n7. Sliding S ystem\\n8. W ardrobe Accessories\\n9. Bed Fi\\x00ngs\\n10. Door Closer\\n11. Cabine t Fixing\\n12. P ocket Door\\n13. W ardrobe Slidings2199921999E- Swing with tw o tray & \\nIt's a high chr ome pla ted wir e\\nstructur e and  with an \\x00skid ma t  \\nComes with L / R \\nSuitable f or Bliend c orner c abinet\\ndoor siz e  450 mm\\nLoad c apacity : Ma x 10 kg / each tr ay\\nE- Swing with tw o tray &  It's a high\\nGray pla ted  wir e structur e and\\nmelamine Comes with L / R \\nSuitable f or Bliend c orner\\ncabinet door siz e 450 mm Load\",\n",
       " \"E- Swing with tw o tray &  It's a high\\nGray pla ted  wir e structur e and\\nmelamine Comes with L / R \\nSuitable f or Bliend c orner\\ncabinet door siz e 450 mm Load\\ncapacity : Ma x 10 kg / each tr aySo\\x00 Close\\nUniv ersal Corner Show hand Corner\\nFlat wir e Univ ersal c orner allow and\\nop\\x00onal use of  s torage in a c orner\\ncabinet Impr oved structur e with\\nSo\\x00 Close s ystem\\nAvailable Finish /-Gr ey / Chr ome 29999\\n9999\\n10999\\n11999\\n12999\\nBo\\x00el Pull out with Fla t Wir e \\nTwo \\x00re Mul\\x00 Slider Side\\nMoun \\x00ng Pull out \\nUnit with ABS base with ﬂa t Wir e \\nFull Ext ension Slides\\nAvailable Finish - Gr ey / Chr ome8999\\n9999\\n10999\\n11999Bo\\x00el Pull out with Glass bask et\\nTwo \\x00re Mul\\x00 Slider Side\\nMoun \\x00ng Pull out \\nUnit with ABS base with side Glass\\nFull Ext ension Slides\\nAvailable Finish - Gr ey2KKA -111\",\n",
       " '9999\\n10999\\n11999Bo\\x00el Pull out with Glass bask et\\nTwo \\x00re Mul\\x00 Slider Side\\nMoun \\x00ng Pull out \\nUnit with ABS base with side Glass\\nFull Ext ension Slides\\nAvailable Finish - Gr ey2KKA -111\\n-A L / R 450 mm1KKA -111\\nL / R450 mm\\n3 KKA - 112 450mm\\n150mm\\n200mm\\n250mm\\n300mmKKA -113 ADescription IMAGE Mrp QTY Code Size\\n150mm\\n200mm\\n250mm\\n300mm4 KKA - 113\\n5\\nUnit c an mov ed to the fr ont when Opening \\nThe Bask et swing out when the c abinet is \\nbeing Opened Univ ersal for le \\x00 &\\nright Openable  It will be Supplied along\\nwith 6 inner and 6 door bask et Suit able\\nfor cabinet width 450 & 600 mm \\nFinish- Chr ome6 KKA - 114 450mm\\n600mm35999\\n38999So\\x00 Close\\nSo\\x00 Close\\nSo\\x00 Close\\nSo\\x00 Close\\nSo\\x00 Close\\nTandem P antry\\nUnit c an mov ed to the fr ont when Opening \\nThe Bask et swing out when the c abinet is',\n",
       " '600mm35999\\n38999So\\x00 Close\\nSo\\x00 Close\\nSo\\x00 Close\\nSo\\x00 Close\\nSo\\x00 Close\\nTandem P antry\\nUnit c an mov ed to the fr ont when Opening \\nThe Bask et swing out when the c abinet is \\nbeing Opened \\nUniv ersal for le \\x00 and righ t Openable \\nIt will be Supplied along with 6 inner and 6 \\ndoor bask et\\nSuitable f or cabinet width 450 & 600 mm\\nFinish - Gr ey7 KKA - 114-A 35999\\n38999450mm\\n600mm\\nSo\\x00 Close\\n Architectur al Hardware\\nwww .keptohar dware.com\\nTandem P antryRolling Shu\\x00 er \\nKKA - 116 Pvc 450 mm Material - PV C 15999\\nPvc 600 MmFinish - Gr ey / Whit e 16999\\nPvc 900 MmSuitable f or the c abinet width - 450 / 600 / \\n900mm17999\\nCabinet Depth -350 mm\\nSuitable f or cabinet Heigh t - 1400 mm\\nRolling Shu\\x00 er \\nblack 450  mm\\nblack 600 mm\\nblack 900 mmMaterial - PV C 15999\\n16999\\n17999KKA - 116 A Finish - Black',\n",
       " \"900mm17999\\nCabinet Depth -350 mm\\nSuitable f or cabinet Heigh t - 1400 mm\\nRolling Shu\\x00 er \\nblack 450  mm\\nblack 600 mm\\nblack 900 mmMaterial - PV C 15999\\n16999\\n17999KKA - 116 A Finish - Black\\nSuitable f or the c abinet width - 450 / 600 / \\n900mm\\nCabinet Depth -350 mm\\nSuitable f or cabinet Heigh t - 1400 mmShort P antry\\nUnit c an mov ed to the fr ont when Opening \\n450mmThe Bask et swing out when the c abinet is \\nbeing Opened \\nKKA - 114 C 600mm Univ ersal for le \\x00 and righ t Openable \\nIt will be Supplied along with 4 inner and 4 \\ndoor bask et\\nSuitable f or cabinet width 450 & 600 mm\\nFinish - Gr ey / Chr ome \\nHeigh t Min - 1500 mm\\nSo\\x00 Close\\nTall Unit\\nKKA - 115 300mmIndividually adjus table shelv es for ﬂe xiable \\nuses, it's desing allow s the t all cabinets t o be\",\n",
       " \"Finish - Gr ey / Chr ome \\nHeigh t Min - 1500 mm\\nSo\\x00 Close\\nTall Unit\\nKKA - 115 300mmIndividually adjus table shelv es for ﬂe xiable \\nuses, it's desing allow s the t all cabinets t o be \\nfully u\\x00liz ed width & Hiegh t45999\\n400mm Suitable f or cabinet with door siz e of 300 \\nmm & 400 mm 55999\\nWith  In tegreted so\\x00 close slide \\nLoad c apacity / Fully e xtension s traigh t unit - \\n80 kg\\nSo\\x00 CloseKKA - 114-B 450mm\\n600mmGlass T andem P antry\\nUnit c an mov ed to the fr ont when Opening \\nThe Bask et swing out when the c abinet is \\nbeing Opened \\nUniv ersal for le \\x00 and righ t Openable \\nIt will be Supplied along with 6 inner and 6 \\ndoor bask et\\nSuitable f or cabinet width 450 & 600 mm\\nSo\\x00 Close42999\\n48999\\n26999\\n28999 Architectur al Hardware\\n11\\n129\\n108\",\n",
       " 'It will be Supplied along with 6 inner and 6 \\ndoor bask et\\nSuitable f or cabinet width 450 & 600 mm\\nSo\\x00 Close42999\\n48999\\n26999\\n28999 Architectur al Hardware\\n11\\n129\\n108\\nwww .keptohar dware.com Architectural Hardware Architectural Hardware Architectural Hardware Architectur al Hardware\\nGlass R olling Stu\\x00 er \\nMaterial - PV C \\nFinish - Gr ey  / Black\\n13\\n14KKA - 116 B 600Suitable f or the c abinet width - 450 / 600 / \\n900mm29500\\nCabinet Depth -350 mm\\nSuitable f or cabinet Heigh t - 1400 mm\\nGlass & Dishr ack\\nIt is a classic dining boar d class y, Resillien t \\nfunc\\x00onalit is easily ﬁ\\x00 ed2800\\nFull Load dishr ack bending r esuded by 90 % 3800600 mm\\nKKA - 117 800 mm\\n900 mmMade in s tainless s teel \\n4500 Avaiable siz es 600 / 800/ 900mm \\nFinish - St ainless St eel \\n21999\\n26999\\n32999Magic Collect or',\n",
       " 'KKA - 117 800 mm\\n900 mmMade in s tainless s teel \\n4500 Avaiable siz es 600 / 800/ 900mm \\nFinish - St ainless St eel \\n21999\\n26999\\n32999Magic Collect or\\nWall Unit li\\x00 s ystem pr oviding mor e \\nergonomics and user c onvience \\nOpen easily in an y desir e posi\\x00on close \\nsilen tly and e ﬀortless y450mm\\nKKA - 118 600mm\\n900mmSuitable f or ov erhead c abinet of 600 mm & \\n900mm\\nWeigh t capacity - 10 kgs \\n800\\n900\\n900\\n1200\\n1200\\n1400KKA - 119Cutlery T ray & Dr awer Og aniser\\nAs with all our pr oducts w e use high quality \\n&eas y to clean ma terial \\nSuitable f or dr awer cabinet width of 450 , \\n500, 600, 700, 800, 900mm\\nAvailable ﬁnish - Gr ey 450 mm\\n500 mm\\n600 mm\\n700 mm\\n800 mm\\n900 mm \\n450*4 Wick er Bask et  with locking s ystem 5000\\n450*6 Made fr om Er oupean 5500',\n",
       " '500, 600, 700, 800, 900mm\\nAvailable ﬁnish - Gr ey 450 mm\\n500 mm\\n600 mm\\n700 mm\\n800 mm\\n900 mm \\n450*4 Wick er Bask et  with locking s ystem 5000\\n450*6 Made fr om Er oupean 5500\\nKKA -120 450*8 Natural Wick er , St orage bask et for Kit chen 6000\\n600*4 with Beach wood Fr ame with in tergated \\nhandle 5000\\n600*6 Suitable f or cabinet width of 450 & 600mm \\n& Depth 550 mm5500\\n600*8\\nMaterial Na tural wick er + Beach w ood 6000\\nCarousal Coner \\nKKA - 121\\nWooden Base in Chr ome Finish 24999 800 mm\\n900 mm\\nSize - 800 / 900 mm26999\\nFINISH : GREY\\n15\\n16\\n17\\n18\\nwww.keptohar dware.com Architectural Hardware Architectur al Hardware\\n480*20mAn\\x00 skid ma t pur e (450 mm by 20 m trs \\n)Bubble T ype4500\\nKKA - 122 480*20m An\\x00 skid ma t pur e (450 mm by 20 m trs \\n)Tricut T ype5500',\n",
       " '480*20mAn\\x00 skid ma t pur e (450 mm by 20 m trs \\n)Bubble T ype4500\\nKKA - 122 480*20m An\\x00 skid ma t pur e (450 mm by 20 m trs \\n)Tricut T ype5500\\n480*20mAn\\x00 skid ma t pur e (450 mm by 20 m trs \\n)Diamond T ype6500\\n20\" Dish Rack 1100\\nKKA  - 123 22\" Finish - St ainless s teel 1125\\n24\" Material - SS wir e with Cap 1375\\nKKA  - 123 A20\" Plate Holder 1100\\n22\" Finish - St ainless s teel 1125\\n24\" Material - SS wir e with Cap 1375\\nAutolid Dus tbin\\n9 ltr sRound W aste bin f or under sink c abinet & \\nDrawer ar e eas y  to use \\n4000\\nKKA - 124\\n14 ltr sThis W aste bin ar e made fr om St ainless s teel \\n& Eco Friendly plas \\x00c5000can be ﬁt with 450 mm Cabinet \\nThis w aste bin a valable in 9 ltr & 14 ltr\\nFinish A vailable in Gr ey & St ainless s teel\\nAssort ed Dr awer W aste Bin Pullout',\n",
       " '& Eco Friendly plas \\x00c5000can be ﬁt with 450 mm Cabinet \\nThis w aste bin a valable in 9 ltr & 14 ltr\\nFinish A vailable in Gr ey & St ainless s teel\\nAssort ed Dr awer W aste Bin Pullout\\nAssort ed Dr awer w aste bin with handle \\nDesigned t o ﬁx the plas \\x00c  & the handles \\nmak e Wet & Dry w aste collec\\x00ons easier \\nKKA - 125Pa\\x00end aut oma \\x00c e xtrac\\x00on machanisim \\nrunning on ball bearing slides8000\\nCan be ﬁt with 400 mm c abinet \\nThese W aste bins ar e available 11 + 11 & 20 \\n+ 20 ltr\\nFinish A vailable - St ainless St eel & Gr ey\\nKKA - 126\\n7500Bi Fold Li\\x00 up S ystem \\nCabinet Heigh t - 600 mm t o 800mm\\nDoor W eigh t - 7kg t o 8 kg\\nwww.keptohar dware.com19\\n20\\n21\\n22\\n23\\n24\\n25\\n Architectural Hardware Architectural Hardware Architectural Hardware Architectural Hardware Architectural Hardware',\n",
       " 'Door W eigh t - 7kg t o 8 kg\\nwww.keptohar dware.com19\\n20\\n21\\n22\\n23\\n24\\n25\\n Architectural Hardware Architectural Hardware Architectural Hardware Architectural Hardware Architectural Hardware\\n20\" Thali Holder 1100\\nKKA  - 123 B 22\"Finish - St ainless s teel \\n1125\\n24\"Material - SS wir e with Cap\\n1375\\nSlim T andem Bo x\\n300 mmConceled Full e xtension ,Dynamic load \\ncapacity 40 kg3100\\n350 mm Tool Fr ee assembly and r emov al of dr awer 3400\\nKTB - 1040 SG 400 mmSilen t System guar antees smooth run \\nwithout noise 3700\\n450 mmUp & Down adjus tmen t , Le \\x00 & righ t \\nadjus tmen t4000\\n500 mm Drawer Side bo x , Heigh t - 116 mm 4500\\n550 mmAvailable siz es - 300 , 400 , 450, 500,550 & \\n600mm4800\\n600 mm Available Finish - Gr ey 5100\\n Architectur al Hardware\\nSlim T andem Bo x\\n300 mm\\n350 mm\\n400 mm\\n450 mm',\n",
       " '550 mmAvailable siz es - 300 , 400 , 450, 500,550 & \\n600mm4800\\n600 mm Available Finish - Gr ey 5100\\n Architectur al Hardware\\nSlim T andem Bo x\\n300 mm\\n350 mm\\n400 mm\\n450 mm\\n500 mm\\n550 mm\\n600 mmConceled Full e xtension ,Dynamic load \\ncapacity 40 kg\\n2800\\n3200\\n3400\\n3800\\n4200\\n4600\\n5000Tool Fr ee assembly and r emov al of dr awer \\nKTB -1040 SGSilen t System guar antees smooth run \\nwithout noise \\nUp & Down adjus tmen t , Le \\x00 & righ t \\nadjus tmen t\\nDrawer Side bo x , Heigh t - 84 mm \\nAvailable siz es - 300 , 400 , 450, 500,550 & \\n600mm\\nAvailable Finish - Gr ey \\n26\\n27\\n28\\n29KKA - 127 7500Bi Fold Li\\x00 up S ystem \\nCabinet Heigh t - 650 mm t o 850mm\\nDoor W eigh t - 7kg t o 8 kg\\n Architectural Hardware\\nKKA - 128As per \\nDrawingTandem P antry Unit \\nThese is a vailable with us as per the \\nrequir emen t',\n",
       " 'Cabinet Heigh t - 650 mm t o 850mm\\nDoor W eigh t - 7kg t o 8 kg\\n Architectural Hardware\\nKKA - 128As per \\nDrawingTandem P antry Unit \\nThese is a vailable with us as per the \\nrequir emen t\\nDepth min - 500 mm \\nFinish - Gr ey\\n Architectural Hardware\\nSlim T andem Bo x\\n300 mmConceled Full e xtension ,Dynamic load \\ncapacity 40 kg3300\\n350 mmTool Fr ee assembly and r emov al of dr awer 3700\\nKTB - 1040 SG 400 mmSilen t System guar antees smooth run \\nwithout noise 4000\\n450 mmUp & Down adjus tmen t , Le \\x00 & righ t \\nadjus tmen t4300\\n500 mmDrawer Side bo x , Heigh t - 167 mm 4800\\n550 mmAvailable siz es - 300 , 400 , 450, 500,550 & \\n600mm5100\\n600 mmAvailable Finish - Gr ey 5400\\n30www.keptohar dware.comAlu 1800\\nKAPS - 007Rose g old 2000\\nCeramic Black\" C\" GOLLA Pr oﬁle\\nAluminium E dge Golla Pr oﬁle',\n",
       " '600mm5100\\n600 mmAvailable Finish - Gr ey 5400\\n30www.keptohar dware.comAlu 1800\\nKAPS - 007Rose g old 2000\\nCeramic Black\" C\" GOLLA Pr oﬁle\\nAluminium E dge Golla Pr oﬁle\\nSize - 3000 mm2000\\nIron Gr ay 2000\\n1600\\nKAPS - 0081800\" L\" GOLLA Pr oﬁle\\nAluminium E dge Golla Pr oﬁl\\nSize - 3000 mm1800Alu\\nRose g old \\nCeramic Black\\nIron Gr ay1800\\n\"J \" Pr oﬁle1400\\nAluminium J Pr oﬁle 1600\\nSize - 3000 mm1600Alu\\nKAPS - 009 Rose g old \\nCeramic Black\\nIron Gr ay 1600\\nKAPS - 010Alu \"F \" Pr oﬁle 1200\\nRose g old Aluminium F Handle Pr oﬁle 1400\\nCeramic Black Size - 3000 mm 1400\\nIron Gr ay 1400\\n Architectur al Hardware\\n33\\n34\\n35\\n36\\n Architectural Hardware Architectural Hardware Architectural Hardware Architectural Hardware\\n Architectural Hardware0 Crank 220\\nKAH SC -001 8 Crank Slide On So\\x00 close hing e 250',\n",
       " '33\\n34\\n35\\n36\\n Architectural Hardware Architectural Hardware Architectural Hardware Architectural Hardware\\n Architectural Hardware0 Crank 220\\nKAH SC -001 8 Crank Slide On So\\x00 close hing e 250\\n16 cr ank 280\\nKAH CL - 011 SS Clip On SS  So\\x00 close Hing es 0 Crank \\n8 Crank\\n16 Cr ank350\\n370\\n400\\nKAH SL-0010 Crank\\n8 Crank\\n16 Cr ankNormal Hing es Slide On65\\n75\\n85\\nKAH CL-011MS0 Crank\\n8 Crank\\n16 Cr ankClip On MS So\\x00 close Hing es \\n250\\n270\\n300www .keptohar dware.com31\\n32\\n37\\n38www.keptohar dware.comAlu 2200\\nRose g old 4 mm Glass \" I \" handle pr oﬁle2400\\nKAPS - 014Ceramic Black\\nsize - 30002400\\nIron Gr ay 2400\\n Architectur al Hardware\\nKAH-CL- 0200 Crank \\n8 Crank350\\n370\\n400\\n1400\\n1600\\nKAPS - 006 \" G \" Handle Pr oﬁle f or Kit chen 1600Alu\\nRose g old \\nCeramic Black\\nIron Gr ay 1600\\nKAH CL-006165 Degr ee Hing e',\n",
       " 'Architectur al Hardware\\nKAH-CL- 0200 Crank \\n8 Crank350\\n370\\n400\\n1400\\n1600\\nKAPS - 006 \" G \" Handle Pr oﬁle f or Kit chen 1600Alu\\nRose g old \\nCeramic Black\\nIron Gr ay 1600\\nKAH CL-006165 Degr ee Hing e\\nHeavy Duty Door Hing e for Corner\\n550\\n350\\n19 mm pr oﬁle hing esSo\\x00 Close 135 Degr ee Hing e\\nHeavy Duty Door Hing e for CornerKAH CL-007135 degr ee165 degr ee\\n Architectural Hardware40\\n41\\n42\\n43\\n44\\n Architectural Hardware Architectural Hardware Architectural Hardware Architectural Hardware Architectural HardwareT- 6 mm 800\\nT- 8 mm 1200KAPS - 011\\nT- 12 mm 1400\\nT- 19 mm 1600\\nT- 25 mm 1800\"T \" Pr oﬁle\\nFinish - PVD 304\\nSize - 6/8/12/19/25 mm \\n5 mm Gr ove \\nAvailable Finish\\nMirrior , R ose Gold , Black , Chr ome \\nKAPS - 0044mm Glass Pr oﬁle \\n45 mm back width Pr oﬁle\\nSize - 3000 mmAlu\\nRose g old',\n",
       " 'Finish - PVD 304\\nSize - 6/8/12/19/25 mm \\n5 mm Gr ove \\nAvailable Finish\\nMirrior , R ose Gold , Black , Chr ome \\nKAPS - 0044mm Glass Pr oﬁle \\n45 mm back width Pr oﬁle\\nSize - 3000 mmAlu\\nRose g old \\nCeramic Black\\nIron Gr ay\\nGold1600\\n2200\\n2200\\n2200\\n2200\\nAlu 2400\\nRose g old 2600\\nKAPS - 012\\nCeramic Black 2600\\nIron Gr ay4mm Glass \" G \" handle pr oﬁle \\n72 mm back width Pr oﬁle\\nSize - 3000 mm 2600\\nGold 2600\\n39\\n Architectural Hardware Architectural Hardware Architectural Hardware\\n45\\n46www.keptohar dware.comRose Gold Proﬁle S ynchr o System \\nKGSF -011- HCeramic Black Available with US \\nGold We provide full Solu\\x00on Acc ording t o your \\nRequir emen t\\nBrush Gold We Provide with Ins talla\\x00ons \\n Architectur al Hardware\\nAlu Aluminium Sliding Sky T rack \\n3600 KST - 051\\n(3600mm) Black Leng th - 3600 mm\\n7000',\n",
       " 'Requir emen t\\nBrush Gold We Provide with Ins talla\\x00ons \\n Architectur al Hardware\\nAlu Aluminium Sliding Sky T rack \\n3600 KST - 051\\n(3600mm) Black Leng th - 3600 mm\\n7000\\nRose Gold Top & Bo\\x00 om T rack set with CAP\\n7000\\nRose Gold Armadio  S ystem\\n36000\\nCeramic Black Max Heigh t - 3000 mm\\n36000\\nKSLD - 5001 Gold Max Width - 1500 mm E ach door \\n36000\\nBrush Gold Finish a vailable - R ose Gold , Cer amic Black\\n36000\\nGold & Brush Gold \\nAnodise Aluminium Sliding Sky T rack 2400 KST -051 \\n(2400mm)Black Leng th - 2400 mm 5000\\nRose Gold Top & Bo\\x00 om T rack set with CAP 5000\\n Architectural Hardware Architectural Hardware Architectural Hardware Architectural HardwareAlu 1500\\nRose g old 4 mm Glass Fr ame Pr oﬁle 1800\\nKAPS - 001 Ceramic Black 20 mm Back width 1800\\nIron Gr ay Size - 3000 mm 1800\\nGold 1800',\n",
       " 'Rose g old 4 mm Glass Fr ame Pr oﬁle 1800\\nKAPS - 001 Ceramic Black 20 mm Back width 1800\\nIron Gr ay Size - 3000 mm 1800\\nGold 1800\\nAlu 2000\\nRose g old 4 mm Glass \" I \" Handle Pr oﬁle 2200\\nKAPS -002 Ceramic Black Size - 3000 mm 2200\\nIron Gr ay 2200\\nGold 2200\\nTopLine Sliding ﬁ\\x00ng \\nKSL - 051 Wardrobe Sliding with So\\x00 close 3200\\nSky Door sliding \\n2Door Kit Set\\nTop Scr ew\\nSOFT CLOSE\\n50\\n51\\n5247\\n48\\n49\\n Architectural Hardware\\n53 Architectur al Hardware\\nRose Gold Telesc opic S ystem \\nCeramic Black With 45 * 16 mm width Pr oﬁle KSGF - 081 Gold \\nAvailable with US \\nBrush Gold We provide full solu\\x00on Acc ording t o your \\nrequir emen t\\nWe Provide with Ins talla\\x00on\\nComes in 1 ﬁx 2 Slide  , 1 ﬁx 3 Side \\n1 ﬁx 4 Slide door s \\nKUDR - 016\" Wooden  Bask et Codr o Channel -500 mm 1250',\n",
       " 'requir emen t\\nWe Provide with Ins talla\\x00on\\nComes in 1 ﬁx 2 Slide  , 1 ﬁx 3 Side \\n1 ﬁx 4 Slide door s \\nKUDR - 016\" Wooden  Bask et Codr o Channel -500 mm 1250\\nKUDR -018 \" With So\\x00 Close 1450\\nKUDR - 020 \" Sizes - 400/450/500 mm 1650\\nWire Bask et Codr o Channel KUDR - 020\"with So\\x00 Close 2000\\nSize - 500 mm\\n Single T rouser Rack \\nAluminium Allo y ABS + Ir on\\nKWS -GR -001 So\\x00 Close 8500\\nSize - Width - 350 mm\\nDepth - 455 mm, Heigh t - 115 mm\\n Architectural Hardware Architectural Hardware Architectural Hardware Architectural HardwareCoat Hang er Pull Out\\nKWS-GR-006 Aluminium Allo y ABS + Ir on 7200\\nSo\\x00 Close \\nSize - Width -115 , Depth - 455 ,Heigh t -115\\nCloth Li\\x00 er Pull Down\\nKWS -GR-007 Hydrolic r od with So\\x00 Close 7000\\nSize - Width Adj- 850 -1150 mm\\nEnd Caps f or \"G\" Pr oﬁle',\n",
       " 'So\\x00 Close \\nSize - Width -115 , Depth - 455 ,Heigh t -115\\nCloth Li\\x00 er Pull Down\\nKWS -GR-007 Hydrolic r od with So\\x00 Close 7000\\nSize - Width Adj- 850 -1150 mm\\nEnd Caps f or \"G\" Pr oﬁle \\nEND CAP -006Finish A vailable - Alu, R ose Gold , Cer amic \\nBlack, Ir on Ga y , SS Brush , CP , Gold 100\\n\"L \" Connect or for\\nKPCA\\n00445 mm & 20 mm Pr oﬁle 120\\nFinish - Alu \\n Architectural Hardware\\n Architectural Hardware Architectural Hardware Architectural Hardware54\\n55\\n56\\n57\\n58\\n59\\n60\\n61www.keptohar dware.com Architectur al Hardware\\nKPO -103 pc Push t o Open Aluminium 4 holes \\nMaterial - Aluminium 150\\n68KPL -101\\nPVC LEGpcs 50PVC LEG \\nSIZE -4\"\\nFinish - Black\\nConnect or for Gola Pr oﬁle \\nKPCA -007 Finish - Aluminium 150\\nKPO - 102 pcs Push t o Open Bu\\x00 on 150\\nMaterial -PV C \\n66\\n67 Architectur al Hardware',\n",
       " 'PVC LEGpcs 50PVC LEG \\nSIZE -4\"\\nFinish - Black\\nConnect or for Gola Pr oﬁle \\nKPCA -007 Finish - Aluminium 150\\nKPO - 102 pcs Push t o Open Bu\\x00 on 150\\nMaterial -PV C \\n66\\n67 Architectur al Hardware\\n Architectur al Hardware\\n Architectur al Hardware\\n Architectural Hardware600 Trouser Pull Out 9500\\n700 Aluminium Alloy ABS + Ir on 10500 KWS- GR-005\\n800 So\\x00 Close 11500\\n900 Size -Width - 600/700/800/900 mm 12500\\nDouble T rouse Rack\\nKWS - GR-002\\n64Aluminium Alloy ABS + Ir on 10500\\nSo\\x00 Close \\nSize - Width - 630 mm , Depth - 455 mm\\nHeigh t - 155 mm\\n600 Jewellary Or ganiser 15000\\nKWS -GR- 003 700 Aluminium Alloy ABS + Ir on 16400\\n800 So\\x00 Close 17500\\n900 Size -Width - 600/700/800/900 mm 18500\\nShoe Rack\\nKWS-GR-004 600 Aluminium Alloy ABS + Ir on 8000\\n900 So\\x00 Close 10000\\nSize -Width - 600/ 900 mm',\n",
       " '800 So\\x00 Close 17500\\n900 Size -Width - 600/700/800/900 mm 18500\\nShoe Rack\\nKWS-GR-004 600 Aluminium Alloy ABS + Ir on 8000\\n900 So\\x00 Close 10000\\nSize -Width - 600/ 900 mm\\n Architectural Hardware Architectural Hardware\\n Architectural Hardware Architectural Hardware\\n656362\\n69www.keptohar dware.com Architectur al Hardware\\nKMB - 0061200\\n1500Morph y Bed \\nSizes - Heigh t - 2000 mm,\\nThickness - 150 mm120000\\n145000\\nStandar d Arm Door Closer\\nKDC -880KDC -860 60 kg\\nWeigh t Capacity - 60 kg & 80 kg 1480\\n80 kg\\nFinish - Silv ers 2200\\n74\\n75\\n Architectural HardwareGlass Self support \\nKGS - 104 Pc Material - Nick el Pla ted 30\\nWeigh t - 9 grms\\nAvailable Finish - Gold, Black ,Brush Gold 50\\nKBF - 005Bed Fr ame\\nSize - 5 \\x00 , Thick eness -5mm 3400\\n1280\\n1280\\nKBG -005 A1280Bed Gas Spring\\n1280\\n1280100 kg\\n125 kg',\n",
       " 'Weigh t - 9 grms\\nAvailable Finish - Gold, Black ,Brush Gold 50\\nKBF - 005Bed Fr ame\\nSize - 5 \\x00 , Thick eness -5mm 3400\\n1280\\n1280\\nKBG -005 A1280Bed Gas Spring\\n1280\\n1280100 kg\\n125 kg\\n150 kg\\n175 kg\\n200 kg\\n250 kg 1280\\n72\\n7370\\nKMF -105 SETMini Fix\\nFinish - Nickle Pla ted\\nMaterial - Zink71\\nKWD - 106 PC Wooden Dow el \\nSize - 8 x 40 mm\\n Architectural Hardware\\n Architectur al Hardware\\n Architectural Hardware\\n Architectural Hardware\\n Architectural Hardware\\n76www.keptohar dware.com Architectur al Hardware\\n1600\\n1650\\n1700\\nKPD - 14011750Pocket Door Fi\\x00ng\\nFinish - St ainless St eel \\nWeigh t Capacity - 15 kg \\nSizes Available - 12\" , 14\" 16\" , 18 \" 20\"\\n22\", 24\", 26\" & 28\"1800\\n1850\\n1900\\n195012\"\\n14\"\\n16\"\\n18\"\\n20\"\\n22\"\\n24\"\\n26\"\\n28\" 2000\\n Architectural Hardware\\nK SLIDE 10 ZK\\nK SLIDE 12 ZK\\nK SLIDE 14 ZK',\n",
       " 'Sizes Available - 12\" , 14\" 16\" , 18 \" 20\"\\n22\", 24\", 26\" & 28\"1800\\n1850\\n1900\\n195012\"\\n14\"\\n16\"\\n18\"\\n20\"\\n22\"\\n24\"\\n26\"\\n28\" 2000\\n Architectural Hardware\\nK SLIDE 10 ZK\\nK SLIDE 12 ZK\\nK SLIDE 14 ZK\\nK SLIDE 16 ZK\\nK SLIDE 18 ZK\\nK SLIDE 20 ZK\\nK SLIDE 22 ZK\\nK SLIDE 24 ZK77\\nKepto Dr awer Chanel, 10 ZK\\nKepto Dr awer Chanel, 12 ZK\\nKepto Dr awer Chanel, 14 ZK\\nKepto Dr awer Chanel, 16 ZK \\nKepto Dr awer Chanel, 18 ZK \\nKepto Dr awer Chanel, 20 ZK\\nKepto Dr awer Chanel, 22 ZK \\nKepto Dr awer Chanel, 24 ZK  300\\n360\\n420\\n480\\n540\\n600\\n660\\n720\\n Architectural Hardware\\n Architectural Hardware\\nK SLIDE 10 SC/ZK\\nK SLIDE 12 SC/ZK\\nK SLIDE 14 SC/ZK\\nK SLIDE 16 SC/ZK\\nK SLIDE 18 SC/ZK\\nK SLIDE 20 SC/ZK\\nK SLIDE 22 SC/ZK\\nK SLIDE 24 SC/ZK78\\n79Kepto So\\x00 Close Dr awer Chanel 10 ZK\\nKepto So\\x00 Close Dr awer Chanel, 12 ZK',\n",
       " 'K SLIDE 12 SC/ZK\\nK SLIDE 14 SC/ZK\\nK SLIDE 16 SC/ZK\\nK SLIDE 18 SC/ZK\\nK SLIDE 20 SC/ZK\\nK SLIDE 22 SC/ZK\\nK SLIDE 24 SC/ZK78\\n79Kepto So\\x00 Close Dr awer Chanel 10 ZK\\nKepto So\\x00 Close Dr awer Chanel, 12 ZK\\nKepto So\\x00 Close Dr awer Chanel, 14 ZK\\nKepto So\\x00 Close Dr awer Chanel, 16 ZK \\nKepto So\\x00 Close Dr awer Chanel, 18 ZK \\nKepto So\\x00 Close Dr awer Chanel, 20 ZK\\nKepto So\\x00 Close Dr awer Chanel, 22 ZK \\nKepto So\\x00 Close Dr awer Chanel, 24 ZK  550\\n660\\n770\\n880\\n990\\n1100\\n1210\\n1320\\n Architectural Hardware Architectural Hardware Architectur al HardwareRou\\x00ne cleaning is essen \\x00al, especially in en vironmen ts tha t have elev ated lev els of a tmospheric c orrosion. Compan y has mechanism w arranty not \\nfor Red spot.Informa \\x00on',\n",
       " 'for Red spot.Informa \\x00on\\nThe t echnic al pr esen ta\\x00ons and dimensions in illus tra\\x00ons and dr awings ar e non binding.\\nWe reser ve the righ t to mak e chang es to speciﬁc a\\x00ons a t any \\x00me. W e do not accept an y responsibility f or an y err ors which ma y occur in the \\nAll siz es in millime ter (mm).\\nThe Pr oducts in this lis t are the ones tha t are curr ently in the KEPT O pr oduct r ange .\\nSince our pr oduct r ange is upda ted fr equen tly , please f eel fr ee contact us if y ou cannot ﬁnd an y par\\x00cular inf orma \\x00on.\\nThe prin ted colour s indiac a\\x00ng the surf ace ﬁnishes ar e not 100% true . but t o provide a use ful guide.\\nPictur es ma y show designs which ar e diﬀ erent to the sc ope of deliv ery.\\nProduct prices ar e subject t o chang e without prior no\\x00ce.',\n",
       " 'Pictur es ma y show designs which ar e diﬀ erent to the sc ope of deliv ery.\\nProduct prices ar e subject t o chang e without prior no\\x00ce.\\nsales@k eptohar dware.com | g erman y@k eptohar dware.com\\nwww.keptohar dware.com']"
      ]
     },
     "execution_count": 15,
     "metadata": {},
     "output_type": "execute_result"
    }
   ],
   "source": [
    "texts[:50]"
   ]
  },
  {
   "cell_type": "code",
   "execution_count": 16,
   "metadata": {
    "colab": {
     "base_uri": "https://localhost:8080/"
    },
    "executionInfo": {
     "elapsed": 1546,
     "status": "ok",
     "timestamp": 1759514832318,
     "user": {
      "displayName": "Gagandeep kaur Khera",
      "userId": "10725934833054894141"
     },
     "user_tz": -330
    },
    "id": "jqtlM7foOJ8s",
    "outputId": "3edd4e9d-f870-474c-94dd-1dd51e77773c"
   },
   "outputs": [
    {
     "name": "stdout",
     "output_type": "stream",
     "text": [
      "Inserted 30 headlines.\n"
     ]
    }
   ],
   "source": [
    "astra_vector_store.add_texts(texts[:50])\n",
    "\n",
    "print(\"Inserted %i headlines.\" % len(texts[:50]))\n",
    "\n",
    "astra_vector_index = VectorStoreIndexWrapper(vectorstore=astra_vector_store)"
   ]
  },
  {
   "cell_type": "code",
   "execution_count": 17,
   "metadata": {
    "colab": {
     "base_uri": "https://localhost:8080/"
    },
    "executionInfo": {
     "elapsed": 105369,
     "status": "ok",
     "timestamp": 1759514937689,
     "user": {
      "displayName": "Gagandeep kaur Khera",
      "userId": "10725934833054894141"
     },
     "user_tz": -330
    },
    "id": "oabUJjfCOvW3",
    "outputId": "8d64baac-bd5d-408c-f8e3-dec6dbfdcba7"
   },
   "outputs": [
    {
     "name": "stdout",
     "output_type": "stream",
     "text": [
      "\n",
      "Enter your question (or type 'quit' to exit): what is this pdf all about?\n",
      "\n",
      "QUESTION: \"what is this pdf all about?\"\n"
     ]
    },
    {
     "name": "stderr",
     "output_type": "stream",
     "text": [
      "WARNING:cassandra.protocol:Server warning: Top-K queries can only be run with consistency level ONE / LOCAL_ONE / NODE_LOCAL. Consistency level LOCAL_QUORUM was requested. Downgrading the consistency level to LOCAL_ONE.\n"
     ]
    },
    {
     "name": "stdout",
     "output_type": "stream",
     "text": [
      "ANSWER: \"This text appears to be a portion of a research paper or technical document about the Transformer model, a type of neural network architecture used in natural language processing tasks, such as machine translation. The text discusses the architecture of the Transformer model, including its encoder and decoder stacks, self-attention mechanisms, and hyperparameters. It also presents experimental results and compares the performance of different model configurations.\"\n",
      "\n",
      "FIRST DOCUMENTS BY RELEVANCE:\n"
     ]
    },
    {
     "name": "stderr",
     "output_type": "stream",
     "text": [
      "WARNING:cassandra.protocol:Server warning: Top-K queries can only be run with consistency level ONE / LOCAL_ONE / NODE_LOCAL. Consistency level LOCAL_QUORUM was requested. Downgrading the consistency level to LOCAL_ONE.\n"
     ]
    },
    {
     "name": "stdout",
     "output_type": "stream",
     "text": [
      "    [0.5868] \"of continuous representations z= (z1, ..., z n). Given z, the decoder then generates ...\"\n",
      "    [0.5651] \"we found it beneficial to linearly project the queries, keys and values htimes with  ...\"\n",
      "    [0.5606] \"in the distance between positions, linearly for ConvS2S and logarithmically for Byte ...\"\n",
      "    [0.5548] \"model. All metrics are on the English-to-German translation development set, newstes ...\"\n",
      "\n",
      "What's your next question (or type 'quit' to exit): what is the mrp of tandem pantry\n",
      "\n",
      "QUESTION: \"what is the mrp of tandem pantry\"\n"
     ]
    },
    {
     "name": "stderr",
     "output_type": "stream",
     "text": [
      "WARNING:cassandra.protocol:Server warning: Top-K queries can only be run with consistency level ONE / LOCAL_ONE / NODE_LOCAL. Consistency level LOCAL_QUORUM was requested. Downgrading the consistency level to LOCAL_ONE.\n"
     ]
    },
    {
     "name": "stdout",
     "output_type": "stream",
     "text": [
      "ANSWER: \"The MRP of Tandem Pantry is:\n",
      "\n",
      "- 35999 for 600mm\n",
      "- 38999 for (no size specified, but it is mentioned as an alternative to the 600mm option, possibly for 450mm)\"\n",
      "\n",
      "FIRST DOCUMENTS BY RELEVANCE:\n"
     ]
    },
    {
     "name": "stderr",
     "output_type": "stream",
     "text": [
      "WARNING:cassandra.protocol:Server warning: Top-K queries can only be run with consistency level ONE / LOCAL_ONE / NODE_LOCAL. Consistency level LOCAL_QUORUM was requested. Downgrading the consistency level to LOCAL_ONE.\n"
     ]
    },
    {
     "name": "stdout",
     "output_type": "stream",
     "text": [
      "    [0.6780] \"600mm35999\n",
      "38999So\u0000 Close\n",
      "So\u0000 Close\n",
      "So\u0000 Close\n",
      "So\u0000 Close\n",
      "So\u0000 Close\n",
      "Tandem P antry\n",
      "Uni ...\"\n",
      "    [0.6550] \"GOALS & MISSION \n",
      "TO PR OVIDE SER VICE S AND PR ODUC TS OF HIGH QU ALITY A T RE ASONA ...\"\n",
      "    [0.6442] \"E- Swing with tw o tray &  It's a high\n",
      "Gray pla ted  wir e structur e and\n",
      "melamine C ...\"\n",
      "    [0.6271] \"9999\n",
      "10999\n",
      "11999Bo\u0000el Pull out with Glass bask et\n",
      "Two \u0000re Mul\u0000 Slider Side\n",
      "Moun \u0000ng  ...\"\n",
      "\n",
      "What's your next question (or type 'quit' to exit): exit\n",
      "\n",
      "QUESTION: \"exit\"\n"
     ]
    },
    {
     "name": "stderr",
     "output_type": "stream",
     "text": [
      "WARNING:cassandra.protocol:Server warning: Top-K queries can only be run with consistency level ONE / LOCAL_ONE / NODE_LOCAL. Consistency level LOCAL_QUORUM was requested. Downgrading the consistency level to LOCAL_ONE.\n"
     ]
    },
    {
     "name": "stdout",
     "output_type": "stream",
     "text": [
      "ANSWER: \"Goodbye.\"\n",
      "\n",
      "FIRST DOCUMENTS BY RELEVANCE:\n"
     ]
    },
    {
     "name": "stderr",
     "output_type": "stream",
     "text": [
      "WARNING:cassandra.protocol:Server warning: Top-K queries can only be run with consistency level ONE / LOCAL_ONE / NODE_LOCAL. Consistency level LOCAL_QUORUM was requested. Downgrading the consistency level to LOCAL_ONE.\n"
     ]
    },
    {
     "name": "stdout",
     "output_type": "stream",
     "text": [
      "    [0.6206] \"K SLIDE 12 SC/ZK\n",
      "K SLIDE 14 SC/ZK\n",
      "K SLIDE 16 SC/ZK\n",
      "K SLIDE 18 SC/ZK\n",
      "K SLIDE 20 SC/ZK ...\"\n",
      "    [0.5847] \"9999\n",
      "10999\n",
      "11999Bo\u0000el Pull out with Glass bask et\n",
      "Two \u0000re Mul\u0000 Slider Side\n",
      "Moun \u0000ng  ...\"\n",
      "    [0.5798] \"layer in a typical sequence transduction encoder or decoder. Motivating our use of s ...\"\n",
      "    [0.5740] \"600mm35999\n",
      "38999So\u0000 Close\n",
      "So\u0000 Close\n",
      "So\u0000 Close\n",
      "So\u0000 Close\n",
      "So\u0000 Close\n",
      "Tandem P antry\n",
      "Uni ...\"\n",
      "\n",
      "What's your next question (or type 'quit' to exit): quit\n"
     ]
    }
   ],
   "source": [
    "first_question = True\n",
    "while True:\n",
    "    if first_question:\n",
    "        query_text = input(\"\\nEnter your question (or type 'quit' to exit): \").strip()\n",
    "    else:\n",
    "        query_text = input(\"\\nWhat's your next question (or type 'quit' to exit): \").strip()\n",
    "\n",
    "    if query_text.lower() == \"quit\":\n",
    "        break\n",
    "\n",
    "    if query_text == \"\":\n",
    "        continue\n",
    "\n",
    "    first_question = False\n",
    "\n",
    "    print(\"\\nQUESTION: \\\"%s\\\"\" % query_text)\n",
    "    answer = astra_vector_index.query(query_text, llm=llm).strip()\n",
    "    print(\"ANSWER: \\\"%s\\\"\\n\" % answer)\n",
    "\n",
    "    print(\"FIRST DOCUMENTS BY RELEVANCE:\")\n",
    "    for doc, score in astra_vector_store.similarity_search_with_score(query_text, k=4):\n",
    "        print(\"    [%0.4f] \\\"%s ...\\\"\" % (score, doc.page_content[:84]))"
   ]
  }
 ],
 "metadata": {
  "accelerator": "GPU",
  "colab": {
   "authorship_tag": "ABX9TyN2oPzoX0PN9avuSiFeUbp1",
   "gpuType": "T4",
   "provenance": []
  },
  "kernelspec": {
   "display_name": "Python 3",
   "name": "python3"
  },
  "language_info": {
   "name": "python"
  }
 },
 "nbformat": 4,
 "nbformat_minor": 0
}
